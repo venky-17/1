{
 "cells": [
  {
   "cell_type": "code",
   "execution_count": 1,
   "id": "0cbf2e75",
   "metadata": {},
   "outputs": [
    {
     "name": "stdout",
     "output_type": "stream",
     "text": [
      "{0: 6.900654886230674, 1: 7.03400566198928, 2: 7.192442537009258, 3: 6.993351715566192}\n"
     ]
    }
   ],
   "source": [
    "import numpy as np\n",
    "import random\n",
    "\n",
    "# Environment settings\n",
    "states = [0, 1, 2, 3]\n",
    "\n",
    "# Q table\n",
    "q_table = {}\n",
    "for state in states:\n",
    "    q_table[state] = 0\n",
    "\n",
    "# Hyperparameters\n",
    "alpha = 0.5  # Learning rate\n",
    "gamma = 0.9  # Discount factor\n",
    "\n",
    "# Q-learning\n",
    "for i in range(100):\n",
    "    \n",
    "    # Initialize episode\n",
    "    state = random.choice(states)\n",
    "    \n",
    "    # Take random action\n",
    "    action = random.choice([0, 1])\n",
    "    \n",
    "    # Implement environment dynamics\n",
    "    if action == 0:\n",
    "        new_state = max(state - 1, 0)\n",
    "    else:\n",
    "        new_state = min(state + 1, 3)\n",
    "    \n",
    "    # Placeholder for the reward (modify according to your problem)\n",
    "    reward = 1  # Replace with the actual reward obtained from the environment\n",
    "    \n",
    "    # Update Q value\n",
    "    q_table[state] += alpha * (reward + gamma * q_table[new_state] - q_table[state])\n",
    "    \n",
    "    state = new_state\n",
    "\n",
    "print(q_table)"
   ]
  },
  {
   "cell_type": "code",
   "execution_count": null,
   "id": "a9aa1db1",
   "metadata": {},
   "outputs": [],
   "source": []
  }
 ],
 "metadata": {
  "kernelspec": {
   "display_name": "Python 3",
   "language": "python",
   "name": "python3"
  },
  "language_info": {
   "codemirror_mode": {
    "name": "ipython",
    "version": 3
   },
   "file_extension": ".py",
   "mimetype": "text/x-python",
   "name": "python",
   "nbconvert_exporter": "python",
   "pygments_lexer": "ipython3",
   "version": "3.8.8"
  }
 },
 "nbformat": 4,
 "nbformat_minor": 5
}
