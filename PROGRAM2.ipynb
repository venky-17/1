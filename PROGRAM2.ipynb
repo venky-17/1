{
 "cells": [
  {
   "cell_type": "markdown",
   "id": "4d8a8be4",
   "metadata": {},
   "source": [
    "# Program 2 >> Develop a program to apply K-means algorithm to cluster a set of data stored in .CSV file. Use the same data set for clustering using EM algorithm. Compare the results of these two algorithms and comment on the quality of clustering"
   ]
  },
  {
   "cell_type": "code",
   "execution_count": null,
   "id": "013d9bbd",
   "metadata": {},
   "outputs": [],
   "source": [
    "from sklearn.cluster import KMeans\n",
    "from sklearn.mixture import GaussianMixture\n",
    "import sklearn.metrics as metrics\n",
    "import pandas as pd\n",
    "import numpy as np\n",
    "import matplotlib.pyplot as plt\n",
    "from sklearn.datasets import load_iris\n",
    "\n",
    "names = ['Sepal_Length','Sepal_Width','Petal_Length','Petal_Width', 'Class']\n",
    "\n",
    "dataset = load_iris()\n",
    "X = dataset.data  \n",
    "y = dataset.target \n",
    "\n",
    "plt.figure(figsize=(14,7))\n",
    "colormap=np.array(['red','lime','black'])\n",
    "\n",
    "# REAL PLOT\n",
    "plt.subplot(1,3,1)\n",
    "plt.title('Real')\n",
    "plt.scatter(X[:,2],X[:,3],c=colormap[y])\n",
    "\n",
    "# K-PLOT\n",
    "model=KMeans(n_clusters=3, random_state=0).fit(X)\n",
    "plt.subplot(1,3,2)\n",
    "plt.title('KMeans')\n",
    "plt.scatter(X[:,2],X[:,3],c=colormap[model.labels_])\n",
    "\n",
    "print('The accuracy score of K-Mean: ',metrics.accuracy_score(y, model.labels_))\n",
    "print('The Confusion matrixof K-Mean:\\n',metrics.confusion_matrix(y, model.labels_))\n",
    "\n",
    "# GMM PLOT\n",
    "gmm=GaussianMixture(n_components=3, random_state=0).fit(X)\n",
    "y_cluster_gmm=gmm.predict(X)\n",
    "plt.subplot(1,3,3)\n",
    "plt.title('GMM Classification')\n",
    "plt.scatter(X[:,2],X[:,3],c=colormap[y_cluster_gmm])\n",
    "plt.show()\n",
    "\n",
    "print('The accuracy score of EM: ',metrics.accuracy_score(y, y_cluster_gmm))\n",
    "print('The Confusion matrix of EM:\\n ',metrics.confusion_matrix(y, y_cluster_gmm))\n"
   ]
  }
 ],
 "metadata": {
  "kernelspec": {
   "display_name": "Python 3 (ipykernel)",
   "language": "python",
   "name": "python3"
  },
  "language_info": {
   "codemirror_mode": {
    "name": "ipython",
    "version": 3
   },
   "file_extension": ".py",
   "mimetype": "text/x-python",
   "name": "python",
   "nbconvert_exporter": "python",
   "pygments_lexer": "ipython3",
   "version": "3.10.9"
  }
 },
 "nbformat": 4,
 "nbformat_minor": 5
}
