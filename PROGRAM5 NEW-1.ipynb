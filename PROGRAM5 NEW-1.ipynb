{
 "cells": [
  {
   "cell_type": "markdown",
   "id": "64230056",
   "metadata": {},
   "source": [
    "# Program 5 >> DEMONSTRATE Genetic Algorithm by taking a suitable data for any simple application\n",
    "\n"
   ]
  },
  {
   "cell_type": "code",
   "execution_count": 3,
   "id": "bfa389ce",
   "metadata": {},
   "outputs": [
    {
     "name": "stdout",
     "output_type": "stream",
     "text": [
      "Generation: 1\tString: wz'h'|\tFitness: 5\n",
      "Generation: 2\tString: pyr+ K\tFitness: 4\n",
      "Generation: 3\tString: pyr+ K\tFitness: 4\n",
      "Generation: 4\tString: wyt{o$\tFitness: 3\n",
      "Generation: 5\tString: wyt{o$\tFitness: 3\n",
      "Generation: 6\tString: pyt\"jn\tFitness: 2\n",
      "Generation: 7\tString: pyt\"jn\tFitness: 2\n",
      "Generation: 8\tString: pytho\\\tFitness: 1\n",
      "Generation: 9\tString: pytho\\\tFitness: 1\n",
      "Generation: 10\tString: python\tFitness: 0\n"
     ]
    }
   ],
   "source": [
    "import random\n",
    "import string\n",
    "\n",
    "target_string = \"PYTHON\"\n",
    "target_length = len(target_string)\n",
    "\n",
    "population_size = 100\n",
    "mutation_rate = 0.01\n",
    "\n",
    "def generate_random_string(length):\n",
    "    return ''.join(random.choice(string.ascii_uppercase + ' ,') for _ in range(length))\n",
    "\n",
    "def initial_population():\n",
    "    return [generate_random_string(target_length) for _ in range(population_size)]\n",
    "\n",
    "def calculate_fitness(individual):\n",
    "    return sum(1 for i in range(target_length) if individual[i] == target_string[i])\n",
    "\n",
    "def select_parents(population):\n",
    "    return random.choices(population, weights=[calculate_fitness(individual) for individual in population], k=2)\n",
    "\n",
    "def crossover(parent1, parent2):\n",
    "    crossover_point = random.randint(1, target_length - 1)\n",
    "    child = parent1[:crossover_point] + parent2[crossover_point:]\n",
    "    return child\n",
    "\n",
    "def mutate(individual):\n",
    "    return ''.join(random.choice(string.ascii_uppercase + ' ,') if random.random() < mutation_rate else char for char in individual)\n",
    "\n",
    "population = initial_population()\n",
    "generation = 1\n",
    "\n",
    "while True:\n",
    "    population = sorted(population, key=calculate_fitness, reverse=True)\n",
    "    best_individual = population[0]\n",
    "    print(f\"Generation {generation}: {best_individual} (Fitness: {calculate_fitness(best_individual)})\")\n",
    "\n",
    "    if best_individual == target_string:\n",
    "        break\n",
    "\n",
    "    new_population = [best_individual]\n",
    "\n",
    "    for _ in range(population_size - 1):\n",
    "        parent1, parent2 = select_parents(population)\n",
    "        child = crossover(parent1, parent2)\n",
    "        child = mutate(child)\n",
    "        new_population.append(child)\n",
    "\n",
    "    population = new_population\n",
    "    generation += 1"
   ]
  },
  {
   "cell_type": "code",
   "execution_count": null,
   "id": "c2a539d4",
   "metadata": {},
   "outputs": [],
   "source": []
  }
 ],
 "metadata": {
  "kernelspec": {
   "display_name": "Python 3 (ipykernel)",
   "language": "python",
   "name": "python3"
  },
  "language_info": {
   "codemirror_mode": {
    "name": "ipython",
    "version": 3
   },
   "file_extension": ".py",
   "mimetype": "text/x-python",
   "name": "python",
   "nbconvert_exporter": "python",
   "pygments_lexer": "ipython3",
   "version": "3.10.9"
  }
 },
 "nbformat": 4,
 "nbformat_minor": 5
}
